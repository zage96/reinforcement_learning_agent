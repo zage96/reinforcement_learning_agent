{
 "cells": [
  {
   "cell_type": "markdown",
   "metadata": {},
   "source": [
    "# Interpretation"
   ]
  },
  {
   "cell_type": "markdown",
   "metadata": {},
   "source": [
    "Code that uses LIME for interpretation of the agent used for the previous observations obtained"
   ]
  },
  {
   "cell_type": "markdown",
   "metadata": {},
   "source": [
    "Import the neccesary libraries"
   ]
  },
  {
   "cell_type": "code",
   "execution_count": 1,
   "metadata": {},
   "outputs": [],
   "source": [
    "import tensorflow as tf\n",
    "slim = tf.contrib.slim\n",
    "import sys\n",
    "#sys.path.append('/Users/marcotcr/phd/tf-models/slim')\n",
    "sys.path.append('/home/mlvm2/tf-models/slim')\n",
    "%load_ext autoreload\n",
    "%autoreload 2\n",
    "import matplotlib.pyplot as plt\n",
    "%matplotlib inline\n",
    "import numpy as np\n",
    "from nets import inception\n",
    "from preprocessing import inception_preprocessing\n",
    "from datasets import imagenet\n",
    "import os\n",
    "from lime import lime_image\n",
    "import time\n",
    "from skimage.segmentation import mark_boundaries\n",
    "\n",
    "import numpy as np\n",
    "import uuid\n",
    "import argparse\n",
    "\n",
    "import cv2\n",
    "import six\n",
    "from six.moves import queue\n",
    "\n",
    "\n",
    "from tensorpack import *\n",
    "from tensorpack.utils.concurrency import ensure_proc_terminate, start_proc_mask_signal\n",
    "from tensorpack.utils.serialize import dumps\n",
    "from tensorpack.tfutils import symbolic_functions as symbf\n",
    "from tensorpack.tfutils.gradproc import MapGradient, SummaryGradient\n",
    "from tensorpack.utils.gpu import get_nr_gpu"
   ]
  },
  {
   "cell_type": "markdown",
   "metadata": {},
   "source": [
    "# LIME"
   ]
  },
  {
   "cell_type": "markdown",
   "metadata": {},
   "source": [
    "Download the neccesary libraries for LIME and the agent"
   ]
  },
  {
   "cell_type": "code",
   "execution_count": 2,
   "metadata": {},
   "outputs": [],
   "source": [
    "from PIL import Image\n",
    "from numpy import array\n",
    "import gym\n",
    "from simulator import SimulatorProcess, SimulatorMaster, TransitionExperience\n",
    "from common import Evaluator, eval_model_multithread, play_n_episodes\n",
    "from atari_wrapper import MapState, FrameStack, FireResetEnv, LimitLength"
   ]
  },
  {
   "cell_type": "code",
   "execution_count": 3,
   "metadata": {},
   "outputs": [],
   "source": [
    "from train_atari import *"
   ]
  },
  {
   "cell_type": "markdown",
   "metadata": {},
   "source": [
    "Read the image and load its profile"
   ]
  },
  {
   "cell_type": "code",
   "execution_count": 4,
   "metadata": {},
   "outputs": [],
   "source": [
    "game =\"Breakout-v0\""
   ]
  },
  {
   "cell_type": "code",
   "execution_count": 5,
   "metadata": {},
   "outputs": [],
   "source": [
    "img = Image.open(game+\"-0-9.png\")\n",
    "arr = array(img)"
   ]
  },
  {
   "cell_type": "code",
   "execution_count": 6,
   "metadata": {},
   "outputs": [
    {
     "data": {
      "text/plain": [
       "<matplotlib.image.AxesImage at 0x7f6832facb70>"
      ]
     },
     "execution_count": 6,
     "metadata": {},
     "output_type": "execute_result"
    },
    {
     "data": {
      "image/png": "[encoded data removed]",
      "text/plain": [
       "<matplotlib.figure.Figure at 0x7f683307ad68>"
      ]
     },
     "metadata": {},
     "output_type": "display_data"
    }
   ],
   "source": [
    "plt.imshow(img)"
   ]
  },
  {
   "cell_type": "code",
   "execution_count": 7,
   "metadata": {},
   "outputs": [
    {
     "name": "stdout",
     "output_type": "stream",
     "text": [
      "\u001b[32m[0421 16:41:21 @train_atari.py:279]\u001b[0m Environment Name: Breakout-v0\n"
     ]
    },
    {
     "name": "stderr",
     "output_type": "stream",
     "text": [
      "[2018-04-21 16:41:21,317] Making new env: Breakout-v0\n"
     ]
    },
    {
     "name": "stdout",
     "output_type": "stream",
     "text": [
      "\u001b[32m[0421 16:41:21 @train_atari.py:281]\u001b[0m Number of actions: 4\n",
      "\u001b[32m[0421 16:41:21 @registry.py:122]\u001b[0m conv0 input: [None, 84, 84, 12]\n",
      "\u001b[32m[0421 16:41:21 @registry.py:130]\u001b[0m conv0 output: [None, 84, 84, 32]\n",
      "\u001b[32m[0421 16:41:21 @registry.py:122]\u001b[0m pool0 input: [None, 84, 84, 32]\n",
      "\u001b[32m[0421 16:41:21 @registry.py:130]\u001b[0m pool0 output: [None, 42, 42, 32]\n",
      "\u001b[32m[0421 16:41:21 @registry.py:122]\u001b[0m conv1 input: [None, 42, 42, 32]\n",
      "\u001b[32m[0421 16:41:21 @registry.py:130]\u001b[0m conv1 output: [None, 42, 42, 32]\n",
      "\u001b[32m[0421 16:41:21 @registry.py:122]\u001b[0m pool1 input: [None, 42, 42, 32]\n",
      "\u001b[32m[0421 16:41:21 @registry.py:130]\u001b[0m pool1 output: [None, 21, 21, 32]\n",
      "\u001b[32m[0421 16:41:21 @registry.py:122]\u001b[0m conv2 input: [None, 21, 21, 32]\n",
      "\u001b[32m[0421 16:41:21 @registry.py:130]\u001b[0m conv2 output: [None, 21, 21, 64]\n",
      "\u001b[32m[0421 16:41:21 @registry.py:122]\u001b[0m pool2 input: [None, 21, 21, 64]\n",
      "\u001b[32m[0421 16:41:21 @registry.py:130]\u001b[0m pool2 output: [None, 10, 10, 64]\n",
      "\u001b[32m[0421 16:41:21 @registry.py:122]\u001b[0m conv3 input: [None, 10, 10, 64]\n",
      "\u001b[32m[0421 16:41:21 @registry.py:130]\u001b[0m conv3 output: [None, 10, 10, 64]\n",
      "\u001b[32m[0421 16:41:21 @registry.py:122]\u001b[0m fc0 input: [None, 10, 10, 64]\n",
      "\u001b[32m[0421 16:41:21 @registry.py:130]\u001b[0m fc0 output: [None, 512]\n",
      "\u001b[32m[0421 16:41:21 @registry.py:122]\u001b[0m fc-pi input: [None, 512]\n",
      "\u001b[32m[0421 16:41:21 @registry.py:130]\u001b[0m fc-pi output: [None, 4]\n",
      "\u001b[32m[0421 16:41:21 @registry.py:122]\u001b[0m fc-v input: [None, 512]\n",
      "\u001b[32m[0421 16:41:21 @registry.py:130]\u001b[0m fc-v output: [None, 1]\n",
      "\u001b[32m[0421 16:41:22 @sessinit.py:206]\u001b[0m Variables to restore from dict: fc-pi/W:0, fc-v/b:0, conv1/b:0, conv0/b:0, conv1/W:0, conv2/b:0, fc0/W:0, fc-pi/b:0, conv2/W:0, fc-v/W:0, prelu/alpha:0, fc0/b:0, conv3/b:0, conv3/W:0, conv0/W:0\n",
      "\u001b[32m[0421 16:41:22 @sessinit.py:219]\u001b[0m Restoring from dict ...\n",
      "Success\n"
     ]
    }
   ],
   "source": [
    "pred = main2(game)"
   ]
  },
  {
   "cell_type": "markdown",
   "metadata": {},
   "source": [
    "Stablish the number of samples for lime"
   ]
  },
  {
   "cell_type": "code",
   "execution_count": 8,
   "metadata": {},
   "outputs": [],
   "source": [
    "numberTimes = 10"
   ]
  },
  {
   "cell_type": "markdown",
   "metadata": {},
   "source": [
    "Function that converts image into an array suitable for the predictor"
   ]
  },
  {
   "cell_type": "code",
   "execution_count": 9,
   "metadata": {},
   "outputs": [],
   "source": [
    "def grow(s,sizeFirst):\n",
    "    \n",
    "    stacker = np.zeros((84, 84, 12), dtype=\"uint8\")\n",
    "    \n",
    "    ni = 0\n",
    "    while ni <84:\n",
    "        nj = 0\n",
    "        while nj < 84:\n",
    "            nk = 0\n",
    "            while nk < sizeFirst:\n",
    "                stacker[ni][nj][0]=s[nk][ni][nj][0]\n",
    "                stacker[ni][nj][1]=s[nk][ni][nj][1]\n",
    "                stacker[ni][nj][2]=s[nk][ni][nj][2]\n",
    "\n",
    "                stacker[ni][nj][3]=s[nk][ni][84+nj][0]\n",
    "                stacker[ni][nj][4]=s[nk][ni][84+nj][1]\n",
    "                stacker[ni][nj][5]=s[nk][ni][84+nj][2]\n",
    "\n",
    "                stacker[ni][nj][6]=s[nk][ni][168+nj][0]\n",
    "                stacker[ni][nj][7]=s[nk][ni][168+nj][1]\n",
    "                stacker[ni][nj][8]=s[nk][ni][168+nj][2]\n",
    "\n",
    "                stacker[ni][nj][9]=s[nk][ni][252+nj][0]\n",
    "                stacker[ni][nj][10]=s[nk][ni][252+nj][1]\n",
    "                stacker[ni][nj][11]=s[nk][ni][252+nj][2]\n",
    "                nk += 1\n",
    "            nj +=1\n",
    "        ni+=1\n",
    "    return stacker"
   ]
  },
  {
   "cell_type": "markdown",
   "metadata": {},
   "source": [
    "Function present in atary_play.py, which gives the action that the agent must do according to its situation"
   ]
  },
  {
   "cell_type": "code",
   "execution_count": 10,
   "metadata": {},
   "outputs": [],
   "source": [
    "def predict2(s):\n",
    "        \"\"\"\n",
    "        Map from observation to action, with 0.001 greedy.\n",
    "        \"\"\"\n",
    "        sizeFirst, a,b,c = s.shape\n",
    "        new_act = np.zeros((numberTimes, numberTimes), dtype=\"float32\")\n",
    "        s = grow(s, sizeFirst)\n",
    "        i = 0\n",
    "        while i < numberTimes: \n",
    "            act = pred(s[None, :, :,:])[0][0].argmax()\n",
    "            new_act[0][i]=act\n",
    "            i +=1\n",
    "        print (new_act.shape)\n",
    "        return new_act"
   ]
  },
  {
   "cell_type": "markdown",
   "metadata": {},
   "source": [
    "Obtain the explainer and the explanations"
   ]
  },
  {
   "cell_type": "code",
   "execution_count": 11,
   "metadata": {},
   "outputs": [],
   "source": [
    "explainer = lime_image.LimeImageExplainer()"
   ]
  },
  {
   "cell_type": "code",
   "execution_count": 12,
   "metadata": {},
   "outputs": [
    {
     "name": "stdout",
     "output_type": "stream",
     "text": [
      "(10, 10)\n"
     ]
    },
    {
     "name": "stderr",
     "output_type": "stream",
     "text": [
      "/usr/local/lib/python3.5/dist-packages/scipy/linalg/basic.py:40: RuntimeWarning: scipy.linalg.solve\n",
      "Ill-conditioned matrix detected. Result is not guaranteed to be accurate.\n",
      "Reciprocal condition number/precision: 1.995676640495181e-17 / 1.1102230246251565e-16\n",
      "  RuntimeWarning)\n"
     ]
    }
   ],
   "source": [
    "explanation = explainer.explain_instance(arr, predict2,num_samples=numberTimes)"
   ]
  },
  {
   "cell_type": "markdown",
   "metadata": {},
   "source": [
    "Show some explanations"
   ]
  },
  {
   "cell_type": "code",
   "execution_count": 13,
   "metadata": {},
   "outputs": [
    {
     "data": {
      "text/plain": [
       "<matplotlib.image.AxesImage at 0x7f68329e8a90>"
      ]
     },
     "execution_count": 13,
     "metadata": {},
     "output_type": "execute_result"
    },
    {
     "data": {
      "image/png": "[encoded data removed]",
      "text/plain": [
       "<matplotlib.figure.Figure at 0x7f6831b26668>"
      ]
     },
     "metadata": {},
     "output_type": "display_data"
    }
   ],
   "source": [
    "temp, mask = explanation.get_image_and_mask(5, positive_only=True, num_features=5, hide_rest=True)\n",
    "plt.imshow(mark_boundaries(temp / 2 + 0.5, mask))"
   ]
  }
 ],
 "metadata": {
  "kernelspec": {
   "display_name": "Python 3",
   "language": "python",
   "name": "python3"
  },
  "language_info": {
   "codemirror_mode": {
    "name": "ipython",
    "version": 3
   },
   "file_extension": ".py",
   "mimetype": "text/x-python",
   "name": "python",
   "nbconvert_exporter": "python",
   "pygments_lexer": "ipython3",
   "version": "3.5.2"
  }
 },
 "nbformat": 4,
 "nbformat_minor": 2
}
