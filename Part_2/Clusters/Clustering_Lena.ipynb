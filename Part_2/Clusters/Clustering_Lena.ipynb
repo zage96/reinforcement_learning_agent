{
 "cells": [
  {
   "cell_type": "code",
   "execution_count": 1,
   "metadata": {},
   "outputs": [
    {
     "name": "stdout",
     "output_type": "stream",
     "text": [
      "Automatically created module for IPython interactive environment\n"
     ]
    }
   ],
   "source": [
    "print(__doc__)\n",
    "\n",
    "# Author: Gael Varoquaux <gael.varoquaux@normalesup.org>, Brian Cheung\n",
    "# License: BSD 3 clause\n",
    "\n",
    "import time\n",
    "\n",
    "import numpy as np\n",
    "import scipy as sp\n",
    "import matplotlib.pyplot as plt\n",
    "\n",
    "from sklearn.feature_extraction import image\n",
    "from sklearn.cluster import spectral_clustering"
   ]
  },
  {
   "cell_type": "code",
   "execution_count": 2,
   "metadata": {},
   "outputs": [],
   "source": [
    "from PIL import Image, ImageFilter"
   ]
  },
  {
   "cell_type": "code",
   "execution_count": 3,
   "metadata": {},
   "outputs": [],
   "source": [
    "import cv2\n",
    "lena2 = Image.open('cat_dog_portrait.jpg')\n",
    "lena = cv2.imread('cat_dog_portrait.jpg')\n",
    "# Downsample the image by a factor of 4\n",
    "#lena = lena[::2, ::2, 2] + lena[1::2, ::2, 2] + lena[::2, 1::2, 2] + lena[1::2, 1::2, 2]\n",
    "#lena = lena[::2, ::2] + lena[1::2, ::2] + lena[::2, 1::2] + lena[1::2, 1::2]\n"
   ]
  },
  {
   "cell_type": "code",
   "execution_count": 4,
   "metadata": {},
   "outputs": [],
   "source": [
    "# Convert the image into a graph with the value of the gradient on the\n",
    "# edges.\n",
    "graph = image.img_to_graph(lena)"
   ]
  },
  {
   "cell_type": "code",
   "execution_count": 5,
   "metadata": {},
   "outputs": [],
   "source": [
    "# Take a decreasing function of the gradient: an exponential\n",
    "# The smaller beta is, the more independent the segmentation is of the\n",
    "# actual image. For beta=1, the segmentation is close to a voronoi\n",
    "beta = 5\n",
    "eps = 1e-6\n",
    "graph.data = np.exp(-beta * graph.data / lena.std()) + eps"
   ]
  },
  {
   "cell_type": "code",
   "execution_count": 6,
   "metadata": {},
   "outputs": [],
   "source": [
    "# Apply spectral clustering (this step goes much faster if you have pyamg\n",
    "# installed)\n",
    "N_REGIONS = 11"
   ]
  },
  {
   "cell_type": "raw",
   "metadata": {},
   "source": [
    "for assign_labels in ('kmeans', 'discretize'):\n",
    "    t0 = time.time()\n",
    "    labels = spectral_clustering(graph, n_clusters=N_REGIONS,\n",
    "                                 assign_labels=assign_labels,\n",
    "                                 random_state=1)\n",
    "    t1 = time.time()\n",
    "    labels = labels.reshape(lena2.size)\n",
    "\n",
    "    plt.figure(figsize=(5, 5))\n",
    "    plt.imshow(lena,   cmap=plt.cm.gray)\n",
    "    for l in range(N_REGIONS):\n",
    "        plt.contour(labels == l, contours=1,\n",
    "                    colors=[plt.cm.spectral(l / float(N_REGIONS)), ])\n",
    "    plt.xticks(())\n",
    "    plt.yticks(())\n",
    "    plt.title('Spectral clustering: %s, %.2fs' % (assign_labels, (t1 - t0)))\n",
    "\n",
    "plt.show()"
   ]
  },
  {
   "cell_type": "code",
   "execution_count": null,
   "metadata": {},
   "outputs": [],
   "source": []
  },
  {
   "cell_type": "code",
   "execution_count": null,
   "metadata": {},
   "outputs": [],
   "source": []
  },
  {
   "cell_type": "code",
   "execution_count": null,
   "metadata": {},
   "outputs": [],
   "source": []
  },
  {
   "cell_type": "code",
   "execution_count": null,
   "metadata": {},
   "outputs": [],
   "source": []
  },
  {
   "cell_type": "code",
   "execution_count": null,
   "metadata": {},
   "outputs": [],
   "source": []
  }
 ],
 "metadata": {
  "kernelspec": {
   "display_name": "Python 3",
   "language": "python",
   "name": "python3"
  },
  "language_info": {
   "codemirror_mode": {
    "name": "ipython",
    "version": 3
   },
   "file_extension": ".py",
   "mimetype": "text/x-python",
   "name": "python",
   "nbconvert_exporter": "python",
   "pygments_lexer": "ipython3",
   "version": "3.5.2"
  }
 },
 "nbformat": 4,
 "nbformat_minor": 2
}
